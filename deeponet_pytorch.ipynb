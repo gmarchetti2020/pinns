{
 "cells": [
  {
   "cell_type": "markdown",
   "id": "eea6aaa8",
   "metadata": {
    "papermill": {
     "duration": 0.012442,
     "end_time": "2023-03-19T11:57:36.900488",
     "exception": false,
     "start_time": "2023-03-19T11:57:36.888046",
     "status": "completed"
    },
    "tags": []
   },
   "source": [
    "# Imports"
   ]
  },
  {
   "cell_type": "code",
   "execution_count": null,
   "id": "01e85bed",
   "metadata": {},
   "outputs": [],
   "source": [
    "!pip install -U torch"
   ]
  },
  {
   "cell_type": "code",
   "execution_count": 1,
   "id": "66763216",
   "metadata": {
    "execution": {
     "iopub.execute_input": "2023-03-19T11:57:36.925324Z",
     "iopub.status.busy": "2023-03-19T11:57:36.924877Z",
     "iopub.status.idle": "2023-03-19T11:57:51.370282Z",
     "shell.execute_reply": "2023-03-19T11:57:51.368816Z"
    },
    "papermill": {
     "duration": 14.461277,
     "end_time": "2023-03-19T11:57:51.373194",
     "exception": false,
     "start_time": "2023-03-19T11:57:36.911917",
     "status": "completed"
    },
    "tags": []
   },
   "outputs": [
    {
     "name": "stdout",
     "output_type": "stream",
     "text": [
      "Collecting gstools\r\n",
      "  Downloading gstools-1.4.1-cp37-cp37m-manylinux_2_17_x86_64.manylinux2014_x86_64.whl (1.3 MB)\r\n",
      "\u001b[2K     \u001b[90m━━━━━━━━━━━━━━━━━━━━━━━━━━━━━━━━━━━━━━━━\u001b[0m \u001b[32m1.3/1.3 MB\u001b[0m \u001b[31m7.0 MB/s\u001b[0m eta \u001b[36m0:00:00\u001b[0m\r\n",
      "\u001b[?25hCollecting pyevtk>=1.1.1\r\n",
      "  Downloading pyevtk-1.5.0-py3-none-any.whl (20 kB)\r\n",
      "Requirement already satisfied: numpy>=1.14.5 in /opt/conda/lib/python3.7/site-packages (from gstools) (1.21.6)\r\n",
      "Collecting meshio>=5.1.0\r\n",
      "  Downloading meshio-5.3.4-py3-none-any.whl (167 kB)\r\n",
      "\u001b[2K     \u001b[90m━━━━━━━━━━━━━━━━━━━━━━━━━━━━━━━━━━━━━━\u001b[0m \u001b[32m167.7/167.7 kB\u001b[0m \u001b[31m16.1 MB/s\u001b[0m eta \u001b[36m0:00:00\u001b[0m\r\n",
      "\u001b[?25hCollecting hankel>=1.0.0\r\n",
      "  Downloading hankel-1.2.1-py3-none-any.whl (12 kB)\r\n",
      "Requirement already satisfied: scipy>=1.1.0 in /opt/conda/lib/python3.7/site-packages (from gstools) (1.7.3)\r\n",
      "Collecting emcee>=3.0.0\r\n",
      "  Downloading emcee-3.1.4-py2.py3-none-any.whl (46 kB)\r\n",
      "\u001b[2K     \u001b[90m━━━━━━━━━━━━━━━━━━━━━━━━━━━━━━━━━━━━━━━━\u001b[0m \u001b[32m46.2/46.2 kB\u001b[0m \u001b[31m3.7 MB/s\u001b[0m eta \u001b[36m0:00:00\u001b[0m\r\n",
      "\u001b[?25hRequirement already satisfied: mpmath>=1.0.0 in /opt/conda/lib/python3.7/site-packages (from hankel>=1.0.0->gstools) (1.2.1)\r\n",
      "Requirement already satisfied: rich in /opt/conda/lib/python3.7/site-packages (from meshio>=5.1.0->gstools) (13.2.0)\r\n",
      "Requirement already satisfied: importlib-metadata in /opt/conda/lib/python3.7/site-packages (from meshio>=5.1.0->gstools) (4.11.4)\r\n",
      "Requirement already satisfied: typing-extensions>=3.6.4 in /opt/conda/lib/python3.7/site-packages (from importlib-metadata->meshio>=5.1.0->gstools) (4.4.0)\r\n",
      "Requirement already satisfied: zipp>=0.5 in /opt/conda/lib/python3.7/site-packages (from importlib-metadata->meshio>=5.1.0->gstools) (3.11.0)\r\n",
      "Requirement already satisfied: pygments<3.0.0,>=2.6.0 in /opt/conda/lib/python3.7/site-packages (from rich->meshio>=5.1.0->gstools) (2.14.0)\r\n",
      "Requirement already satisfied: markdown-it-py<3.0.0,>=2.1.0 in /opt/conda/lib/python3.7/site-packages (from rich->meshio>=5.1.0->gstools) (2.1.0)\r\n",
      "Requirement already satisfied: mdurl~=0.1 in /opt/conda/lib/python3.7/site-packages (from markdown-it-py<3.0.0,>=2.1.0->rich->meshio>=5.1.0->gstools) (0.1.2)\r\n",
      "Installing collected packages: pyevtk, emcee, hankel, meshio, gstools\r\n",
      "Successfully installed emcee-3.1.4 gstools-1.4.1 hankel-1.2.1 meshio-5.3.4 pyevtk-1.5.0\r\n",
      "\u001b[33mWARNING: Running pip as the 'root' user can result in broken permissions and conflicting behaviour with the system package manager. It is recommended to use a virtual environment instead: https://pip.pypa.io/warnings/venv\u001b[0m\u001b[33m\r\n",
      "\u001b[0m"
     ]
    }
   ],
   "source": [
    "!pip install gstools"
   ]
  },
  {
   "cell_type": "code",
   "execution_count": 2,
   "id": "b14b9e50",
   "metadata": {
    "execution": {
     "iopub.execute_input": "2023-03-19T11:57:51.401793Z",
     "iopub.status.busy": "2023-03-19T11:57:51.401031Z",
     "iopub.status.idle": "2023-03-19T11:57:55.314427Z",
     "shell.execute_reply": "2023-03-19T11:57:55.312917Z"
    },
    "papermill": {
     "duration": 3.932108,
     "end_time": "2023-03-19T11:57:55.318205",
     "exception": false,
     "start_time": "2023-03-19T11:57:51.386097",
     "status": "completed"
    },
    "tags": []
   },
   "outputs": [],
   "source": [
    "import torch\n",
    "import torch.nn as nn\n",
    "import numpy as np\n",
    "import matplotlib.pyplot as plt\n",
    "from gstools import SRF, Gaussian\n",
    "from gstools.random import MasterRNG\n",
    "from scipy import integrate"
   ]
  },
  {
   "cell_type": "markdown",
   "id": "4299c7c3",
   "metadata": {
    "papermill": {
     "duration": 0.012276,
     "end_time": "2023-03-19T11:57:55.344732",
     "exception": false,
     "start_time": "2023-03-19T11:57:55.332456",
     "status": "completed"
    },
    "tags": []
   },
   "source": [
    "`gstools` is a library which can be used to generate random fields. This will be used in the DeepONet model to generate the training data."
   ]
  },
  {
   "cell_type": "markdown",
   "id": "34e59cce",
   "metadata": {
    "papermill": {
     "duration": 0.012378,
     "end_time": "2023-03-19T11:57:55.369879",
     "exception": false,
     "start_time": "2023-03-19T11:57:55.357501",
     "status": "completed"
    },
    "tags": []
   },
   "source": [
    "See this [tutorial](https://geostat-framework.readthedocs.io/projects/gstools/en/v1.1.1/tutorial_01_srf.html) for more information on how to use `gstools` to generate random fields."
   ]
  },
  {
   "cell_type": "markdown",
   "id": "1bfcb7e1",
   "metadata": {
    "papermill": {
     "duration": 0.012362,
     "end_time": "2023-03-19T11:57:55.394777",
     "exception": false,
     "start_time": "2023-03-19T11:57:55.382415",
     "status": "completed"
    },
    "tags": []
   },
   "source": [
    "# DeepONet"
   ]
  },
  {
   "cell_type": "markdown",
   "id": "6c46158c",
   "metadata": {
    "papermill": {
     "duration": 0.012595,
     "end_time": "2023-03-19T11:57:55.419880",
     "exception": false,
     "start_time": "2023-03-19T11:57:55.407285",
     "status": "completed"
    },
    "tags": []
   },
   "source": [
    "For details about the DeepONet model, see the [md file](https://github.com/Hari31416/APL745/blob/main/Notes/DeepONet.md). The original article can be found [here](https://arxiv.org/abs/1910.03193).\n",
    "\n",
    "Here, we'll use the model to solve the anti-derivative problem given in the article."
   ]
  },
  {
   "cell_type": "markdown",
   "id": "cb939f5d",
   "metadata": {
    "papermill": {
     "duration": 0.012188,
     "end_time": "2023-03-19T11:57:55.444870",
     "exception": false,
     "start_time": "2023-03-19T11:57:55.432682",
     "status": "completed"
    },
    "tags": []
   },
   "source": [
    "## Problem Statement"
   ]
  },
  {
   "cell_type": "markdown",
   "id": "45e8643a",
   "metadata": {
    "papermill": {
     "duration": 0.012753,
     "end_time": "2023-03-19T11:57:55.470188",
     "exception": false,
     "start_time": "2023-03-19T11:57:55.457435",
     "status": "completed"
    },
    "tags": []
   },
   "source": [
    "Let's consider the following problem:\n",
    "$$\n",
    "\\frac{ds(x)}{dx} = u(x), \\quad x\\in [0,1]\n",
    "$$\n",
    "\n",
    "We need to solve the above problem for any $s(x)$, at any $x\\in [0,1]$. We'll use the DeepONet model to solve this problem. Let the operator corresponding to the above problem be $G$.\n",
    "\n",
    "We can see that it is nothing but the antiderivative operator, ie.:\n",
    "\n",
    "$$\n",
    "G:u(x) \\mapsto s(x) = \\int_0^x u(x) dx\n",
    "$$"
   ]
  },
  {
   "cell_type": "markdown",
   "id": "5a75e57b",
   "metadata": {
    "papermill": {
     "duration": 0.013062,
     "end_time": "2023-03-19T11:57:55.495813",
     "exception": false,
     "start_time": "2023-03-19T11:57:55.482751",
     "status": "completed"
    },
    "tags": []
   },
   "source": [
    "## Generating Data"
   ]
  },
  {
   "cell_type": "markdown",
   "id": "3d2aceac",
   "metadata": {
    "papermill": {
     "duration": 0.012427,
     "end_time": "2023-03-19T11:57:55.521117",
     "exception": false,
     "start_time": "2023-03-19T11:57:55.508690",
     "status": "completed"
    },
    "tags": []
   },
   "source": [
    "Here is the data generation process:\n",
    "1. Create $m$ points $x_i$ from $[0,1]$.\n",
    "2. Generate $n$ random field $u_i$ using Gaussian random field.\n",
    "3. The points at which the random field is evaluated are $x_i$. This way, we have a matrix of form $m\\times n$ for $u(x_{ij})$ for $i^{th}$ random field and $j^{th}$ point.\n",
    "4. Now compute $s(x_{ij})$ for $i^{th}$ random field and $j^{th}$ point."
   ]
  },
  {
   "cell_type": "markdown",
   "id": "40587a56",
   "metadata": {
    "papermill": {
     "duration": 0.012322,
     "end_time": "2023-03-19T11:57:55.546118",
     "exception": false,
     "start_time": "2023-03-19T11:57:55.533796",
     "status": "completed"
    },
    "tags": []
   },
   "source": [
    "So, we have the following data:\n",
    "1. $m$ points $x_i$ from $[0,1]$.\n",
    "2. $n$ random fields $u_i$.\n",
    "3. $m\\times n$ matrix of $U$.\n",
    "4. $m\\times n$ matrix of $S$."
   ]
  },
  {
   "cell_type": "markdown",
   "id": "89b38bbb",
   "metadata": {
    "papermill": {
     "duration": 0.012569,
     "end_time": "2023-03-19T11:57:55.571639",
     "exception": false,
     "start_time": "2023-03-19T11:57:55.559070",
     "status": "completed"
    },
    "tags": []
   },
   "source": [
    "We'll use $m=100, n = 110$."
   ]
  },
  {
   "cell_type": "code",
   "execution_count": 3,
   "id": "f8272d22",
   "metadata": {
    "execution": {
     "iopub.execute_input": "2023-03-19T11:57:55.598878Z",
     "iopub.status.busy": "2023-03-19T11:57:55.598167Z",
     "iopub.status.idle": "2023-03-19T11:57:55.603257Z",
     "shell.execute_reply": "2023-03-19T11:57:55.602367Z"
    },
    "papermill": {
     "duration": 0.021191,
     "end_time": "2023-03-19T11:57:55.605346",
     "exception": false,
     "start_time": "2023-03-19T11:57:55.584155",
     "status": "completed"
    },
    "tags": []
   },
   "outputs": [],
   "source": [
    "m = 100\n",
    "n = 110"
   ]
  },
  {
   "cell_type": "markdown",
   "id": "eab50136",
   "metadata": {
    "papermill": {
     "duration": 0.012274,
     "end_time": "2023-03-19T11:57:55.630224",
     "exception": false,
     "start_time": "2023-03-19T11:57:55.617950",
     "status": "completed"
    },
    "tags": []
   },
   "source": [
    "Let's generate the data."
   ]
  },
  {
   "cell_type": "code",
   "execution_count": 4,
   "id": "6f429989",
   "metadata": {
    "execution": {
     "iopub.execute_input": "2023-03-19T11:57:55.657201Z",
     "iopub.status.busy": "2023-03-19T11:57:55.656802Z",
     "iopub.status.idle": "2023-03-19T11:57:55.663135Z",
     "shell.execute_reply": "2023-03-19T11:57:55.661790Z"
    },
    "papermill": {
     "duration": 0.023178,
     "end_time": "2023-03-19T11:57:55.665975",
     "exception": false,
     "start_time": "2023-03-19T11:57:55.642797",
     "status": "completed"
    },
    "tags": []
   },
   "outputs": [],
   "source": [
    "x = np.linspace(0, 1, m)"
   ]
  },
  {
   "cell_type": "code",
   "execution_count": 5,
   "id": "4bcc0294",
   "metadata": {
    "execution": {
     "iopub.execute_input": "2023-03-19T11:57:55.693663Z",
     "iopub.status.busy": "2023-03-19T11:57:55.693215Z",
     "iopub.status.idle": "2023-03-19T11:57:55.701865Z",
     "shell.execute_reply": "2023-03-19T11:57:55.700540Z"
    },
    "papermill": {
     "duration": 0.025597,
     "end_time": "2023-03-19T11:57:55.704436",
     "exception": false,
     "start_time": "2023-03-19T11:57:55.678839",
     "status": "completed"
    },
    "tags": []
   },
   "outputs": [],
   "source": [
    "seed = MasterRNG(20170519)\n",
    "def one_function(x):\n",
    "    model = Gaussian(dim=1, var=3, len_scale=0.3)\n",
    "    srf = SRF(model, seed=seed())\n",
    "    f = srf.structured([x])\n",
    "    return f"
   ]
  },
  {
   "cell_type": "code",
   "execution_count": 6,
   "id": "da224916",
   "metadata": {
    "execution": {
     "iopub.execute_input": "2023-03-19T11:57:55.731441Z",
     "iopub.status.busy": "2023-03-19T11:57:55.731039Z",
     "iopub.status.idle": "2023-03-19T11:57:56.565113Z",
     "shell.execute_reply": "2023-03-19T11:57:56.563801Z"
    },
    "papermill": {
     "duration": 0.851037,
     "end_time": "2023-03-19T11:57:56.568094",
     "exception": false,
     "start_time": "2023-03-19T11:57:55.717057",
     "status": "completed"
    },
    "tags": []
   },
   "outputs": [],
   "source": [
    "U = np.zeros((m, n))\n",
    "for i in range(m):\n",
    "    U[:, i] = one_function(x)"
   ]
  },
  {
   "cell_type": "markdown",
   "id": "cb1cfcb2",
   "metadata": {
    "papermill": {
     "duration": 0.012332,
     "end_time": "2023-03-19T11:57:56.595193",
     "exception": false,
     "start_time": "2023-03-19T11:57:56.582861",
     "status": "completed"
    },
    "tags": []
   },
   "source": [
    "Let's see how the field looks:"
   ]
  },
  {
   "cell_type": "code",
   "execution_count": 7,
   "id": "93ad0dc0",
   "metadata": {
    "execution": {
     "iopub.execute_input": "2023-03-19T11:57:56.622556Z",
     "iopub.status.busy": "2023-03-19T11:57:56.621994Z",
     "iopub.status.idle": "2023-03-19T11:57:56.903026Z",
     "shell.execute_reply": "2023-03-19T11:57:56.901847Z"
    },
    "papermill": {
     "duration": 0.298699,
     "end_time": "2023-03-19T11:57:56.906613",
     "exception": false,
     "start_time": "2023-03-19T11:57:56.607914",
     "status": "completed"
    },
    "tags": []
   },
   "outputs": [
    {
     "data": {
      "image/png": "[encoded data removed]",
      "text/plain": [
       "<Figure size 640x480 with 1 Axes>"
      ]
     },
     "metadata": {},
     "output_type": "display_data"
    }
   ],
   "source": [
    "plt.plot(x, U[:, :10]);"
   ]
  },
  {
   "cell_type": "markdown",
   "id": "8abd88e2",
   "metadata": {
    "papermill": {
     "duration": 0.01358,
     "end_time": "2023-03-19T11:57:56.934266",
     "exception": false,
     "start_time": "2023-03-19T11:57:56.920686",
     "status": "completed"
    },
    "tags": []
   },
   "source": [
    "Let's plot all the fields together:"
   ]
  },
  {
   "cell_type": "code",
   "execution_count": 8,
   "id": "545e2856",
   "metadata": {
    "execution": {
     "iopub.execute_input": "2023-03-19T11:57:56.964872Z",
     "iopub.status.busy": "2023-03-19T11:57:56.964415Z",
     "iopub.status.idle": "2023-03-19T11:57:57.392096Z",
     "shell.execute_reply": "2023-03-19T11:57:57.390552Z"
    },
    "papermill": {
     "duration": 0.446821,
     "end_time": "2023-03-19T11:57:57.395037",
     "exception": false,
     "start_time": "2023-03-19T11:57:56.948216",
     "status": "completed"
    },
    "tags": []
   },
   "outputs": [
    {
     "data": {
      "image/png": "[encoded data removed]",
      "text/plain": [
       "<Figure size 1000x1000 with 2 Axes>"
      ]
     },
     "metadata": {},
     "output_type": "display_data"
    }
   ],
   "source": [
    "plt.figure(figsize=(10,10))\n",
    "plt.imshow(U.T, cmap='jet', origin=\"lower\")\n",
    "plt.colorbar();"
   ]
  },
  {
   "cell_type": "code",
   "execution_count": 9,
   "id": "a1c8812a",
   "metadata": {
    "execution": {
     "iopub.execute_input": "2023-03-19T11:57:57.426733Z",
     "iopub.status.busy": "2023-03-19T11:57:57.426313Z",
     "iopub.status.idle": "2023-03-19T11:57:57.433140Z",
     "shell.execute_reply": "2023-03-19T11:57:57.431669Z"
    },
    "papermill": {
     "duration": 0.025891,
     "end_time": "2023-03-19T11:57:57.435967",
     "exception": false,
     "start_time": "2023-03-19T11:57:57.410076",
     "status": "completed"
    },
    "tags": []
   },
   "outputs": [],
   "source": [
    "def integrate_one_function(f):\n",
    "    result = np.zeros_like(f)\n",
    "    result[0] = 0\n",
    "    for i in range(1, len(f)):\n",
    "        result[i] = integrate.simps(f[:i+1], x[:i+1])\n",
    "    return result"
   ]
  },
  {
   "cell_type": "code",
   "execution_count": 10,
   "id": "9baae2a0",
   "metadata": {
    "execution": {
     "iopub.execute_input": "2023-03-19T11:57:57.468925Z",
     "iopub.status.busy": "2023-03-19T11:57:57.468508Z",
     "iopub.status.idle": "2023-03-19T11:57:57.697786Z",
     "shell.execute_reply": "2023-03-19T11:57:57.696531Z"
    },
    "papermill": {
     "duration": 0.249135,
     "end_time": "2023-03-19T11:57:57.700454",
     "exception": false,
     "start_time": "2023-03-19T11:57:57.451319",
     "status": "completed"
    },
    "tags": []
   },
   "outputs": [
    {
     "data": {
      "image/png": "[encoded data removed]",
      "text/plain": [
       "<Figure size 640x480 with 1 Axes>"
      ]
     },
     "metadata": {},
     "output_type": "display_data"
    }
   ],
   "source": [
    "f = U[:, 0]\n",
    "f_int = integrate_one_function(f)\n",
    "plt.plot(x, f_int)\n",
    "plt.plot(x, f);"
   ]
  },
  {
   "cell_type": "markdown",
   "id": "0358baf1",
   "metadata": {
    "papermill": {
     "duration": 0.015494,
     "end_time": "2023-03-19T11:57:57.731630",
     "exception": false,
     "start_time": "2023-03-19T11:57:57.716136",
     "status": "completed"
    },
    "tags": []
   },
   "source": [
    "Now let's integrate all functions. This will be our target function."
   ]
  },
  {
   "cell_type": "code",
   "execution_count": 11,
   "id": "790c4448",
   "metadata": {
    "execution": {
     "iopub.execute_input": "2023-03-19T11:57:57.764382Z",
     "iopub.status.busy": "2023-03-19T11:57:57.763667Z",
     "iopub.status.idle": "2023-03-19T11:57:58.367724Z",
     "shell.execute_reply": "2023-03-19T11:57:58.366659Z"
    },
    "papermill": {
     "duration": 0.623794,
     "end_time": "2023-03-19T11:57:58.370612",
     "exception": false,
     "start_time": "2023-03-19T11:57:57.746818",
     "status": "completed"
    },
    "tags": []
   },
   "outputs": [],
   "source": [
    "S = np.zeros((m, n))\n",
    "for i in range(n):\n",
    "    S[:, i] = integrate_one_function(U[:, i])"
   ]
  },
  {
   "cell_type": "code",
   "execution_count": 12,
   "id": "8bdfe275",
   "metadata": {
    "execution": {
     "iopub.execute_input": "2023-03-19T11:57:58.404138Z",
     "iopub.status.busy": "2023-03-19T11:57:58.403240Z",
     "iopub.status.idle": "2023-03-19T11:57:58.828521Z",
     "shell.execute_reply": "2023-03-19T11:57:58.827177Z"
    },
    "papermill": {
     "duration": 0.445114,
     "end_time": "2023-03-19T11:57:58.831167",
     "exception": false,
     "start_time": "2023-03-19T11:57:58.386053",
     "status": "completed"
    },
    "tags": []
   },
   "outputs": [
    {
     "data": {
      "image/png": "[encoded data removed]",
      "text/plain": [
       "<Figure size 1000x1000 with 2 Axes>"
      ]
     },
     "metadata": {},
     "output_type": "display_data"
    }
   ],
   "source": [
    "plt.figure(figsize=(10,10))\n",
    "extent = [0, 1, 0, 1]\n",
    "plt.imshow(S.T, cmap='jet', origin=\"lower\")\n",
    "plt.colorbar();"
   ]
  },
  {
   "cell_type": "markdown",
   "id": "46fef4cc",
   "metadata": {
    "papermill": {
     "duration": 0.016627,
     "end_time": "2023-03-19T11:57:58.863994",
     "exception": false,
     "start_time": "2023-03-19T11:57:58.847367",
     "status": "completed"
    },
    "tags": []
   },
   "source": [
    "Now that we have data, we can go to the training process."
   ]
  },
  {
   "cell_type": "markdown",
   "id": "ebbe694e",
   "metadata": {
    "papermill": {
     "duration": 0.015768,
     "end_time": "2023-03-19T11:57:58.895881",
     "exception": false,
     "start_time": "2023-03-19T11:57:58.880113",
     "status": "completed"
    },
    "tags": []
   },
   "source": [
    "## Training Process"
   ]
  },
  {
   "cell_type": "markdown",
   "id": "1fe42a67",
   "metadata": {
    "papermill": {
     "duration": 0.016158,
     "end_time": "2023-03-19T11:57:58.927778",
     "exception": false,
     "start_time": "2023-03-19T11:57:58.911620",
     "status": "completed"
    },
    "tags": []
   },
   "source": [
    "Here is the training process:\n",
    "\n",
    "1. Chose one function $u_i$ from the n functions generated in the data generation process.\n",
    "   1. Create a vector of $u_i(x_j)$ for all $x_j$ points, say $\\mathbf{U_i}$.\n",
    "   2. Chose a random point $x_k$ from $x_j$.\n",
    "   3. Determine the value of $s_i(x_k)$ (you already have it), say $S_{ik}$.\n",
    "   4. The input to the branch net will be $\\mathbf{U_i}$ and that of the trunk net will be $S_{ik}$.\n",
    "   5. The dot product of the output of the branch net and the output of the trunk net will be the predicted value of $S_{ik}$. Use MSE loss to train the model.\n",
    "   6. Now, repeat the above steps for all $x_k$ points.\n",
    "2. Now choose another function $u_j$ from the n functions generated in the data generation process.\n",
    "   1. Repeat the above steps.\n",
    "3. Repeat the above steps for all $u_i$ functions."
   ]
  },
  {
   "cell_type": "markdown",
   "id": "128524cd",
   "metadata": {
    "papermill": {
     "duration": 0.015596,
     "end_time": "2023-03-19T11:57:58.960026",
     "exception": false,
     "start_time": "2023-03-19T11:57:58.944430",
     "status": "completed"
    },
    "tags": []
   },
   "source": [
    "First, let's create the dataset in the format required by the model. We wil have two inputs:\n",
    "1. The random field $u_i$ with shape $b\\times m$.\n",
    "2. The value of $x_i$ with shape $b\\times 1$.\n",
    "\n",
    "While the output will be the value of $s_i(x_i)$ with shape $b\\times 1$. Here, $b$ is the batch size."
   ]
  },
  {
   "cell_type": "markdown",
   "id": "4961152e",
   "metadata": {
    "papermill": {
     "duration": 0.015659,
     "end_time": "2023-03-19T11:57:58.991463",
     "exception": false,
     "start_time": "2023-03-19T11:57:58.975804",
     "status": "completed"
    },
    "tags": []
   },
   "source": [
    "To create the dataset, we'll merge all the data generated above into a single list of tuples. Each tuple will have the format: `((u_i, x_i), s_i)` where `u_i = (u_1, u_2, ..., u_m)` and `x_i` and `s_i` are scalars. Stacking all the tuples will give us the dataset."
   ]
  },
  {
   "cell_type": "code",
   "execution_count": 13,
   "id": "3e4489f8",
   "metadata": {
    "execution": {
     "iopub.execute_input": "2023-03-19T11:57:59.025452Z",
     "iopub.status.busy": "2023-03-19T11:57:59.025013Z",
     "iopub.status.idle": "2023-03-19T11:57:59.032997Z",
     "shell.execute_reply": "2023-03-19T11:57:59.031663Z"
    },
    "papermill": {
     "duration": 0.028171,
     "end_time": "2023-03-19T11:57:59.035529",
     "exception": false,
     "start_time": "2023-03-19T11:57:59.007358",
     "status": "completed"
    },
    "tags": []
   },
   "outputs": [
    {
     "data": {
      "text/plain": [
       "((100,), (100, 110), (100, 110))"
      ]
     },
     "execution_count": 13,
     "metadata": {},
     "output_type": "execute_result"
    }
   ],
   "source": [
    "x.shape, U.shape, S.shape"
   ]
  },
  {
   "cell_type": "code",
   "execution_count": 14,
   "id": "21f7d5ad",
   "metadata": {
    "execution": {
     "iopub.execute_input": "2023-03-19T11:57:59.070607Z",
     "iopub.status.busy": "2023-03-19T11:57:59.069280Z",
     "iopub.status.idle": "2023-03-19T11:57:59.123192Z",
     "shell.execute_reply": "2023-03-19T11:57:59.121779Z"
    },
    "papermill": {
     "duration": 0.075555,
     "end_time": "2023-03-19T11:57:59.127320",
     "exception": false,
     "start_time": "2023-03-19T11:57:59.051765",
     "status": "completed"
    },
    "tags": []
   },
   "outputs": [
    {
     "data": {
      "text/plain": [
       "(torch.Size([100, 1]), torch.Size([1, 1]), torch.Size([1, 1]))"
      ]
     },
     "execution_count": 14,
     "metadata": {},
     "output_type": "execute_result"
    }
   ],
   "source": [
    "i = 10 #which function\n",
    "j = 5 #which sensor\n",
    "u = U[:, i]\n",
    "x_ = x[j]\n",
    "s = S[j, i]\n",
    "\n",
    "u = torch.tensor(u, dtype=torch.float32).unsqueeze(1)\n",
    "x_ = torch.tensor([x_], dtype=torch.float32).unsqueeze(1)\n",
    "s = torch.tensor([s], dtype=torch.float32).unsqueeze(1)\n",
    "u.shape, x_.shape, s.shape"
   ]
  },
  {
   "cell_type": "code",
   "execution_count": 15,
   "id": "87e1f5d0",
   "metadata": {
    "execution": {
     "iopub.execute_input": "2023-03-19T11:57:59.170433Z",
     "iopub.status.busy": "2023-03-19T11:57:59.169181Z",
     "iopub.status.idle": "2023-03-19T11:57:59.181753Z",
     "shell.execute_reply": "2023-03-19T11:57:59.180321Z"
    },
    "papermill": {
     "duration": 0.035281,
     "end_time": "2023-03-19T11:57:59.185609",
     "exception": false,
     "start_time": "2023-03-19T11:57:59.150328",
     "status": "completed"
    },
    "tags": []
   },
   "outputs": [
    {
     "data": {
      "text/plain": [
       "(torch.Size([100, 110]), torch.Size([100, 1]), torch.Size([100, 110]))"
      ]
     },
     "execution_count": 15,
     "metadata": {},
     "output_type": "execute_result"
    }
   ],
   "source": [
    "U_train = torch.tensor(U, dtype=torch.float32)\n",
    "x_train = torch.tensor(x, dtype=torch.float32).unsqueeze(1)\n",
    "S_train = torch.tensor(S, dtype=torch.float32)\n",
    "U_train.shape, x_train.shape, S_train.shape"
   ]
  },
  {
   "cell_type": "code",
   "execution_count": 16,
   "id": "b46ca9fb",
   "metadata": {
    "execution": {
     "iopub.execute_input": "2023-03-19T11:57:59.222945Z",
     "iopub.status.busy": "2023-03-19T11:57:59.221855Z",
     "iopub.status.idle": "2023-03-19T11:57:59.229734Z",
     "shell.execute_reply": "2023-03-19T11:57:59.228596Z"
    },
    "papermill": {
     "duration": 0.02843,
     "end_time": "2023-03-19T11:57:59.232467",
     "exception": false,
     "start_time": "2023-03-19T11:57:59.204037",
     "status": "completed"
    },
    "tags": []
   },
   "outputs": [],
   "source": [
    "def interate_dataset(m=m, n=n , x=x, U=U, S=S):\n",
    "    us = np.zeros((m*n, m))\n",
    "    xs = np.zeros((m*n, 1))\n",
    "    ss = np.zeros((m*n, 1))\n",
    "    for i in range(n):\n",
    "        for j in range(m):\n",
    "            us[i*m+j, :] = U[:, i]\n",
    "            xs[i*m+j, :] = x[j]\n",
    "            ss[i*m+j, :] = S[j, i]\n",
    "    return us, xs, ss"
   ]
  },
  {
   "cell_type": "code",
   "execution_count": 17,
   "id": "44c2d664",
   "metadata": {
    "execution": {
     "iopub.execute_input": "2023-03-19T11:57:59.268226Z",
     "iopub.status.busy": "2023-03-19T11:57:59.267266Z",
     "iopub.status.idle": "2023-03-19T11:57:59.307695Z",
     "shell.execute_reply": "2023-03-19T11:57:59.306298Z"
    },
    "papermill": {
     "duration": 0.06147,
     "end_time": "2023-03-19T11:57:59.310662",
     "exception": false,
     "start_time": "2023-03-19T11:57:59.249192",
     "status": "completed"
    },
    "tags": []
   },
   "outputs": [
    {
     "data": {
      "text/plain": [
       "((11000, 100), (11000, 1), (11000, 1))"
      ]
     },
     "execution_count": 17,
     "metadata": {},
     "output_type": "execute_result"
    }
   ],
   "source": [
    "us, xs, ss = interate_dataset()\n",
    "us.shape, xs.shape, ss.shape"
   ]
  },
  {
   "cell_type": "code",
   "execution_count": 18,
   "id": "db8c63c6",
   "metadata": {
    "execution": {
     "iopub.execute_input": "2023-03-19T11:57:59.346785Z",
     "iopub.status.busy": "2023-03-19T11:57:59.346287Z",
     "iopub.status.idle": "2023-03-19T11:57:59.357768Z",
     "shell.execute_reply": "2023-03-19T11:57:59.356285Z"
    },
    "papermill": {
     "duration": 0.033087,
     "end_time": "2023-03-19T11:57:59.360349",
     "exception": false,
     "start_time": "2023-03-19T11:57:59.327262",
     "status": "completed"
    },
    "tags": []
   },
   "outputs": [],
   "source": [
    "def batch_dataset(batch_size, m=m, n=n , x=x, U=U, S=S, ratio=0.8):\n",
    "    us, xs, ss = interate_dataset(m, n, x, U, S)\n",
    "    train_size = int(len(us)*ratio)\n",
    "    us_train = us[:train_size]\n",
    "    xs_train = xs[:train_size]\n",
    "    ss_train = ss[:train_size]\n",
    "    \n",
    "    us_test = us[train_size:]\n",
    "    xs_test = xs[train_size:]\n",
    "    ss_test = ss[train_size:]\n",
    "\n",
    "    us_train = torch.tensor(us_train, dtype=torch.float32)\n",
    "    xs_train = torch.tensor(xs_train, dtype=torch.float32)\n",
    "    ss_train = torch.tensor(ss_train, dtype=torch.float32)\n",
    "    train_dataset = torch.utils.data.TensorDataset(us_train, xs_train, ss_train)\n",
    "    train_dataloader = torch.utils.data.DataLoader(train_dataset, batch_size=batch_size, shuffle=True)\n",
    "\n",
    "    us_test = torch.tensor(us_test, dtype=torch.float32)\n",
    "    xs_test = torch.tensor(xs_test, dtype=torch.float32)\n",
    "    ss_test = torch.tensor(ss_test, dtype=torch.float32)\n",
    "    test_dataset = torch.utils.data.TensorDataset(us_test, xs_test, ss_test)\n",
    "    test_dataloader = torch.utils.data.DataLoader(test_dataset, batch_size=batch_size, shuffle=True)\n",
    "\n",
    "    return train_dataloader, test_dataloader"
   ]
  },
  {
   "cell_type": "code",
   "execution_count": 19,
   "id": "fe0ca945",
   "metadata": {
    "execution": {
     "iopub.execute_input": "2023-03-19T11:57:59.395910Z",
     "iopub.status.busy": "2023-03-19T11:57:59.395450Z",
     "iopub.status.idle": "2023-03-19T11:57:59.436780Z",
     "shell.execute_reply": "2023-03-19T11:57:59.435310Z"
    },
    "papermill": {
     "duration": 0.062648,
     "end_time": "2023-03-19T11:57:59.439906",
     "exception": false,
     "start_time": "2023-03-19T11:57:59.377258",
     "status": "completed"
    },
    "tags": []
   },
   "outputs": [],
   "source": [
    "train_data, test_data = batch_dataset(32, ratio=0.99)#for now I'm not bothering with validating the model"
   ]
  },
  {
   "cell_type": "code",
   "execution_count": 20,
   "id": "84693a0e",
   "metadata": {
    "execution": {
     "iopub.execute_input": "2023-03-19T11:57:59.475954Z",
     "iopub.status.busy": "2023-03-19T11:57:59.475495Z",
     "iopub.status.idle": "2023-03-19T11:57:59.518988Z",
     "shell.execute_reply": "2023-03-19T11:57:59.517469Z"
    },
    "papermill": {
     "duration": 0.064084,
     "end_time": "2023-03-19T11:57:59.521939",
     "exception": false,
     "start_time": "2023-03-19T11:57:59.457855",
     "status": "completed"
    },
    "tags": []
   },
   "outputs": [
    {
     "name": "stdout",
     "output_type": "stream",
     "text": [
      "torch.Size([32, 100]) torch.Size([32, 1]) torch.Size([32, 1])\n"
     ]
    }
   ],
   "source": [
    "for u_, x_, s_ in train_data:\n",
    "    print(u_.shape, x_.shape, s_.shape)\n",
    "    break"
   ]
  },
  {
   "cell_type": "code",
   "execution_count": 21,
   "id": "23dbd11e",
   "metadata": {
    "execution": {
     "iopub.execute_input": "2023-03-19T11:57:59.557853Z",
     "iopub.status.busy": "2023-03-19T11:57:59.557392Z",
     "iopub.status.idle": "2023-03-19T11:57:59.564895Z",
     "shell.execute_reply": "2023-03-19T11:57:59.563601Z"
    },
    "papermill": {
     "duration": 0.028636,
     "end_time": "2023-03-19T11:57:59.567605",
     "exception": false,
     "start_time": "2023-03-19T11:57:59.538969",
     "status": "completed"
    },
    "tags": []
   },
   "outputs": [
    {
     "name": "stdout",
     "output_type": "stream",
     "text": [
      "torch.Size([32, 100]) torch.Size([32, 1]) torch.Size([32, 1])\n"
     ]
    }
   ],
   "source": [
    "for u_, x_, s_ in test_data:\n",
    "    print(u_.shape, x_.shape, s_.shape)\n",
    "    break"
   ]
  },
  {
   "cell_type": "markdown",
   "id": "9adce815",
   "metadata": {
    "papermill": {
     "duration": 0.017017,
     "end_time": "2023-03-19T11:57:59.601394",
     "exception": false,
     "start_time": "2023-03-19T11:57:59.584377",
     "status": "completed"
    },
    "tags": []
   },
   "source": [
    ">The way I created the dataset is not the most efficient way to do it. As our dataset will increase, we'll start having trouble. It works for now, though!"
   ]
  },
  {
   "cell_type": "markdown",
   "id": "bdfac761",
   "metadata": {
    "papermill": {
     "duration": 0.016136,
     "end_time": "2023-03-19T11:57:59.634233",
     "exception": false,
     "start_time": "2023-03-19T11:57:59.618097",
     "status": "completed"
    },
    "tags": []
   },
   "source": [
    "Now, we have the data ready. Let's create the model and train it."
   ]
  },
  {
   "cell_type": "markdown",
   "id": "40a71f2a",
   "metadata": {
    "papermill": {
     "duration": 0.016043,
     "end_time": "2023-03-19T11:57:59.666699",
     "exception": false,
     "start_time": "2023-03-19T11:57:59.650656",
     "status": "completed"
    },
    "tags": []
   },
   "source": [
    "## The Model"
   ]
  },
  {
   "cell_type": "markdown",
   "id": "d2ac510e",
   "metadata": {
    "papermill": {
     "duration": 0.015872,
     "end_time": "2023-03-19T11:57:59.698927",
     "exception": false,
     "start_time": "2023-03-19T11:57:59.683055",
     "status": "completed"
    },
    "tags": []
   },
   "source": [
    "Here is the model:"
   ]
  },
  {
   "cell_type": "code",
   "execution_count": 22,
   "id": "9a1bc4f6",
   "metadata": {
    "execution": {
     "iopub.execute_input": "2023-03-19T11:57:59.733678Z",
     "iopub.status.busy": "2023-03-19T11:57:59.732748Z",
     "iopub.status.idle": "2023-03-19T11:57:59.744396Z",
     "shell.execute_reply": "2023-03-19T11:57:59.743472Z"
    },
    "papermill": {
     "duration": 0.032016,
     "end_time": "2023-03-19T11:57:59.747013",
     "exception": false,
     "start_time": "2023-03-19T11:57:59.714997",
     "status": "completed"
    },
    "tags": []
   },
   "outputs": [],
   "source": [
    "# Implement a torch module for two inputs\n",
    "class DeepONet(nn.Module):\n",
    "    def __init__(self, neurons=40, in1=1, in2=1, output_neurons=20):\n",
    "        super(DeepONet, self).__init__()\n",
    "        self.neurons = neurons\n",
    "        self.in1 = in1\n",
    "        self.in2 = in2\n",
    "        self.output_neurons = output_neurons\n",
    "        self.b = torch.nn.parameter.Parameter(torch.tensor(0.0))\n",
    "        self.b1 = self._branch_one()\n",
    "        self.b2 = self._branch_two()\n",
    "\n",
    "    def _branch_one(self):\n",
    "        b1 = nn.Sequential(\n",
    "            nn.Linear(self.in1, self.neurons),\n",
    "            nn.ReLU(),\n",
    "            nn.Linear(self.neurons, self.neurons),\n",
    "            nn.ReLU(),\n",
    "            nn.Linear(self.neurons, self.output_neurons),\n",
    "        )\n",
    "        return b1\n",
    "    \n",
    "    def _branch_two(self):\n",
    "        b2 = nn.Sequential(\n",
    "            nn.Linear(self.in2, self.neurons),\n",
    "            nn.ReLU(),\n",
    "            nn.Linear(self.neurons, self.neurons),\n",
    "            nn.ReLU(),\n",
    "            nn.Linear(self.neurons, self.neurons),\n",
    "            nn.ReLU(),\n",
    "            nn.Linear(self.neurons, self.output_neurons),\n",
    "        )\n",
    "        return b2\n",
    "        \n",
    "    def forward(self, x1, x2):\n",
    "        x1 = self.b1(x1)\n",
    "        x2 = self.b2(x2)\n",
    "        x = torch.einsum(\"bi,bi->b\", x1, x2)\n",
    "        x = torch.unsqueeze(x, 1)\n",
    "        x+=self.b\n",
    "        return x"
   ]
  },
  {
   "cell_type": "code",
   "execution_count": 23,
   "id": "c4c3a6dd",
   "metadata": {
    "execution": {
     "iopub.execute_input": "2023-03-19T11:57:59.782751Z",
     "iopub.status.busy": "2023-03-19T11:57:59.781328Z",
     "iopub.status.idle": "2023-03-19T11:57:59.793308Z",
     "shell.execute_reply": "2023-03-19T11:57:59.791997Z"
    },
    "papermill": {
     "duration": 0.032315,
     "end_time": "2023-03-19T11:57:59.795757",
     "exception": false,
     "start_time": "2023-03-19T11:57:59.763442",
     "status": "completed"
    },
    "tags": []
   },
   "outputs": [
    {
     "data": {
      "text/plain": [
       "DeepONet(\n",
       "  (b1): Sequential(\n",
       "    (0): Linear(in_features=100, out_features=40, bias=True)\n",
       "    (1): ReLU()\n",
       "    (2): Linear(in_features=40, out_features=40, bias=True)\n",
       "    (3): ReLU()\n",
       "    (4): Linear(in_features=40, out_features=20, bias=True)\n",
       "  )\n",
       "  (b2): Sequential(\n",
       "    (0): Linear(in_features=1, out_features=40, bias=True)\n",
       "    (1): ReLU()\n",
       "    (2): Linear(in_features=40, out_features=40, bias=True)\n",
       "    (3): ReLU()\n",
       "    (4): Linear(in_features=40, out_features=40, bias=True)\n",
       "    (5): ReLU()\n",
       "    (6): Linear(in_features=40, out_features=20, bias=True)\n",
       "  )\n",
       ")"
      ]
     },
     "execution_count": 23,
     "metadata": {},
     "output_type": "execute_result"
    }
   ],
   "source": [
    "model = DeepONet(neurons=40, in1=m, in2=1)\n",
    "model"
   ]
  },
  {
   "cell_type": "markdown",
   "id": "3a0b1b75",
   "metadata": {
    "papermill": {
     "duration": 0.016132,
     "end_time": "2023-03-19T11:57:59.828344",
     "exception": false,
     "start_time": "2023-03-19T11:57:59.812212",
     "status": "completed"
    },
    "tags": []
   },
   "source": [
    "We'll use MSE for loss:"
   ]
  },
  {
   "cell_type": "code",
   "execution_count": 24,
   "id": "724217da",
   "metadata": {
    "execution": {
     "iopub.execute_input": "2023-03-19T11:57:59.863345Z",
     "iopub.status.busy": "2023-03-19T11:57:59.862585Z",
     "iopub.status.idle": "2023-03-19T11:57:59.867499Z",
     "shell.execute_reply": "2023-03-19T11:57:59.866594Z"
    },
    "papermill": {
     "duration": 0.025052,
     "end_time": "2023-03-19T11:57:59.869813",
     "exception": false,
     "start_time": "2023-03-19T11:57:59.844761",
     "status": "completed"
    },
    "tags": []
   },
   "outputs": [],
   "source": [
    "def loss(y_pred, y):\n",
    "    return torch.mean((y_pred - y)**2)"
   ]
  },
  {
   "cell_type": "markdown",
   "id": "48ae5245",
   "metadata": {
    "papermill": {
     "duration": 0.016367,
     "end_time": "2023-03-19T11:57:59.902504",
     "exception": false,
     "start_time": "2023-03-19T11:57:59.886137",
     "status": "completed"
    },
    "tags": []
   },
   "source": [
    "Adam will be used as optimizer:"
   ]
  },
  {
   "cell_type": "code",
   "execution_count": 25,
   "id": "043e7dc5",
   "metadata": {
    "execution": {
     "iopub.execute_input": "2023-03-19T11:57:59.937796Z",
     "iopub.status.busy": "2023-03-19T11:57:59.937319Z",
     "iopub.status.idle": "2023-03-19T11:57:59.943438Z",
     "shell.execute_reply": "2023-03-19T11:57:59.942475Z"
    },
    "papermill": {
     "duration": 0.027009,
     "end_time": "2023-03-19T11:57:59.946154",
     "exception": false,
     "start_time": "2023-03-19T11:57:59.919145",
     "status": "completed"
    },
    "tags": []
   },
   "outputs": [],
   "source": [
    "optimizer = torch.optim.Adam(model.parameters(), lr=0.001)"
   ]
  },
  {
   "cell_type": "code",
   "execution_count": 26,
   "id": "bdcdc60a",
   "metadata": {
    "execution": {
     "iopub.execute_input": "2023-03-19T11:57:59.981624Z",
     "iopub.status.busy": "2023-03-19T11:57:59.981169Z",
     "iopub.status.idle": "2023-03-19T12:35:51.278524Z",
     "shell.execute_reply": "2023-03-19T12:35:51.277101Z"
    },
    "papermill": {
     "duration": 2271.319045,
     "end_time": "2023-03-19T12:35:51.281648",
     "exception": false,
     "start_time": "2023-03-19T11:57:59.962603",
     "status": "completed"
    },
    "tags": []
   },
   "outputs": [
    {
     "name": "stdout",
     "output_type": "stream",
     "text": [
      "Epoch:    0/2000, Loss: 0.034314\n",
      "Epoch:   20/2000, Loss: 0.000514\n",
      "Epoch:   40/2000, Loss: 0.000188\n",
      "Epoch:   60/2000, Loss: 0.000339\n",
      "Epoch:   80/2000, Loss: 0.000190\n",
      "Epoch:  100/2000, Loss: 0.000188\n",
      "Epoch:  120/2000, Loss: 0.000277\n",
      "Epoch:  140/2000, Loss: 0.000193\n",
      "Epoch:  160/2000, Loss: 0.000081\n",
      "Epoch:  180/2000, Loss: 0.000193\n",
      "Epoch:  200/2000, Loss: 0.000161\n",
      "Epoch:  220/2000, Loss: 0.000066\n",
      "Epoch:  240/2000, Loss: 0.000179\n",
      "Epoch:  260/2000, Loss: 0.000207\n",
      "Epoch:  280/2000, Loss: 0.000055\n",
      "Epoch:  300/2000, Loss: 0.000130\n",
      "Epoch:  320/2000, Loss: 0.000135\n",
      "Epoch:  340/2000, Loss: 0.000066\n",
      "Epoch:  360/2000, Loss: 0.000066\n",
      "Epoch:  380/2000, Loss: 0.000258\n",
      "Epoch:  400/2000, Loss: 0.000077\n",
      "Epoch:  420/2000, Loss: 0.000040\n",
      "Epoch:  440/2000, Loss: 0.000063\n",
      "Epoch:  460/2000, Loss: 0.000049\n",
      "Epoch:  480/2000, Loss: 0.000173\n",
      "Epoch:  500/2000, Loss: 0.000133\n",
      "Epoch:  520/2000, Loss: 0.000070\n",
      "Epoch:  540/2000, Loss: 0.000076\n",
      "Epoch:  560/2000, Loss: 0.000073\n",
      "Epoch:  580/2000, Loss: 0.000058\n",
      "Epoch:  600/2000, Loss: 0.000052\n",
      "Epoch:  620/2000, Loss: 0.000050\n",
      "Epoch:  640/2000, Loss: 0.000080\n",
      "Epoch:  660/2000, Loss: 0.000061\n",
      "Epoch:  680/2000, Loss: 0.000056\n",
      "Epoch:  700/2000, Loss: 0.000122\n",
      "Epoch:  720/2000, Loss: 0.000068\n",
      "Epoch:  740/2000, Loss: 0.000141\n",
      "Epoch:  760/2000, Loss: 0.000128\n",
      "Epoch:  780/2000, Loss: 0.000066\n",
      "Epoch:  800/2000, Loss: 0.000182\n",
      "Epoch:  820/2000, Loss: 0.000063\n",
      "Epoch:  840/2000, Loss: 0.000070\n",
      "Epoch:  860/2000, Loss: 0.000054\n",
      "Epoch:  880/2000, Loss: 0.000087\n",
      "Epoch:  900/2000, Loss: 0.000097\n",
      "Epoch:  920/2000, Loss: 0.000093\n",
      "Epoch:  940/2000, Loss: 0.000080\n",
      "Epoch:  960/2000, Loss: 0.000102\n",
      "Epoch:  980/2000, Loss: 0.000099\n",
      "Epoch: 1000/2000, Loss: 0.000068\n",
      "Epoch: 1020/2000, Loss: 0.000047\n",
      "Epoch: 1040/2000, Loss: 0.000038\n",
      "Epoch: 1060/2000, Loss: 0.000090\n",
      "Epoch: 1080/2000, Loss: 0.000044\n",
      "Epoch: 1100/2000, Loss: 0.000039\n",
      "Epoch: 1120/2000, Loss: 0.000080\n",
      "Epoch: 1140/2000, Loss: 0.000269\n",
      "Epoch: 1160/2000, Loss: 0.000035\n",
      "Epoch: 1180/2000, Loss: 0.000079\n",
      "Epoch: 1200/2000, Loss: 0.000064\n",
      "Epoch: 1220/2000, Loss: 0.000060\n",
      "Epoch: 1240/2000, Loss: 0.000092\n",
      "Epoch: 1260/2000, Loss: 0.000071\n",
      "Epoch: 1280/2000, Loss: 0.000059\n",
      "Epoch: 1300/2000, Loss: 0.000094\n",
      "Epoch: 1320/2000, Loss: 0.000042\n",
      "Epoch: 1340/2000, Loss: 0.000071\n",
      "Epoch: 1360/2000, Loss: 0.000051\n",
      "Epoch: 1380/2000, Loss: 0.000054\n",
      "Epoch: 1400/2000, Loss: 0.000183\n",
      "Epoch: 1420/2000, Loss: 0.000042\n",
      "Epoch: 1440/2000, Loss: 0.000069\n",
      "Epoch: 1460/2000, Loss: 0.000052\n",
      "Epoch: 1480/2000, Loss: 0.000149\n",
      "Epoch: 1500/2000, Loss: 0.000058\n",
      "Epoch: 1520/2000, Loss: 0.000039\n",
      "Epoch: 1540/2000, Loss: 0.000101\n",
      "Epoch: 1560/2000, Loss: 0.000059\n",
      "Epoch: 1580/2000, Loss: 0.000071\n",
      "Epoch: 1600/2000, Loss: 0.000053\n",
      "Epoch: 1620/2000, Loss: 0.000059\n",
      "Epoch: 1640/2000, Loss: 0.000079\n",
      "Epoch: 1660/2000, Loss: 0.000098\n",
      "Epoch: 1680/2000, Loss: 0.000078\n",
      "Epoch: 1700/2000, Loss: 0.000043\n",
      "Epoch: 1720/2000, Loss: 0.000064\n",
      "Epoch: 1740/2000, Loss: 0.000073\n",
      "Epoch: 1760/2000, Loss: 0.000042\n",
      "Epoch: 1780/2000, Loss: 0.000098\n",
      "Epoch: 1800/2000, Loss: 0.000058\n",
      "Epoch: 1820/2000, Loss: 0.000041\n",
      "Epoch: 1840/2000, Loss: 0.000048\n",
      "Epoch: 1860/2000, Loss: 0.000045\n",
      "Epoch: 1880/2000, Loss: 0.000074\n",
      "Epoch: 1900/2000, Loss: 0.000052\n",
      "Epoch: 1920/2000, Loss: 0.000070\n",
      "Epoch: 1940/2000, Loss: 0.000033\n",
      "Epoch: 1960/2000, Loss: 0.000097\n",
      "Epoch: 1980/2000, Loss: 0.000071\n"
     ]
    }
   ],
   "source": [
    "train_losses = []\n",
    "epochs = 2000\n",
    "for i in range(epochs):\n",
    "    l_total = 0\n",
    "    for u_, x_, s_ in train_data:\n",
    "        model.train()\n",
    "        optimizer.zero_grad()\n",
    "        y_pred = model(u_, x_)\n",
    "        l = loss(y_pred, s_)\n",
    "        l_total += l.item()\n",
    "        l.backward()\n",
    "        optimizer.step()\n",
    "        \n",
    "    l_total = l_total/len(train_data)\n",
    "    train_losses.append(l_total)\n",
    "    if i % 20 == 0:\n",
    "        print(f'Epoch: {i:>4d}/{epochs}, Loss: {l_total:6f}')\n",
    "    \n"
   ]
  },
  {
   "cell_type": "code",
   "execution_count": 27,
   "id": "1fd3f900",
   "metadata": {
    "execution": {
     "iopub.execute_input": "2023-03-19T12:35:51.331228Z",
     "iopub.status.busy": "2023-03-19T12:35:51.330355Z",
     "iopub.status.idle": "2023-03-19T12:35:51.562978Z",
     "shell.execute_reply": "2023-03-19T12:35:51.561648Z"
    },
    "papermill": {
     "duration": 0.260312,
     "end_time": "2023-03-19T12:35:51.565620",
     "exception": false,
     "start_time": "2023-03-19T12:35:51.305308",
     "status": "completed"
    },
    "tags": []
   },
   "outputs": [
    {
     "data": {
      "image/png": "[encoded data removed]",
      "text/plain": [
       "<Figure size 640x480 with 1 Axes>"
      ]
     },
     "metadata": {},
     "output_type": "display_data"
    }
   ],
   "source": [
    "plt.plot(train_losses)\n",
    "plt.xlabel(\"Epoch\")\n",
    "plt.ylabel(\"Loss (MSE)\")\n",
    "plt.show()"
   ]
  },
  {
   "cell_type": "markdown",
   "id": "9870de57",
   "metadata": {
    "papermill": {
     "duration": 0.022886,
     "end_time": "2023-03-19T12:35:51.611707",
     "exception": false,
     "start_time": "2023-03-19T12:35:51.588821",
     "status": "completed"
    },
    "tags": []
   },
   "source": [
    "## Verification"
   ]
  },
  {
   "cell_type": "markdown",
   "id": "07318e24",
   "metadata": {
    "papermill": {
     "duration": 0.022692,
     "end_time": "2023-03-19T12:35:51.657362",
     "exception": false,
     "start_time": "2023-03-19T12:35:51.634670",
     "status": "completed"
    },
    "tags": []
   },
   "source": [
    "Here, we'll verify whether the model has indeed been able to learn the integration operator. We will try two functions"
   ]
  },
  {
   "cell_type": "code",
   "execution_count": 28,
   "id": "36104ae4",
   "metadata": {
    "execution": {
     "iopub.execute_input": "2023-03-19T12:35:51.705840Z",
     "iopub.status.busy": "2023-03-19T12:35:51.705068Z",
     "iopub.status.idle": "2023-03-19T12:35:51.987779Z",
     "shell.execute_reply": "2023-03-19T12:35:51.986365Z"
    },
    "papermill": {
     "duration": 0.310477,
     "end_time": "2023-03-19T12:35:51.990826",
     "exception": false,
     "start_time": "2023-03-19T12:35:51.680349",
     "status": "completed"
    },
    "tags": []
   },
   "outputs": [
    {
     "data": {
      "image/png": "[encoded data removed]",
      "text/plain": [
       "<Figure size 640x480 with 1 Axes>"
      ]
     },
     "metadata": {},
     "output_type": "display_data"
    }
   ],
   "source": [
    "my_func = lambda x: np.cos(5*x)\n",
    "inter = lambda x: 1/5*np.sin(5*x)\n",
    "u_t = my_func(x)\n",
    "s_t = inter(x)\n",
    "\n",
    "model.eval()\n",
    "u_t_ = torch.tensor(u_t, dtype=torch.float32).unsqueeze(0)\n",
    "x_ = torch.tensor(x, dtype=torch.float32).unsqueeze(1)\n",
    "p = model(u_t_, x_)\n",
    "p = p.detach().numpy()\n",
    "\n",
    "plt.plot(x, u_t, label=\"Func\")\n",
    "plt.plot(x, s_t, label=\"integration analytical\")\n",
    "plt.plot(x, p, label=\"integration model\")\n",
    "plt.legend();"
   ]
  },
  {
   "cell_type": "code",
   "execution_count": 29,
   "id": "5b808c74",
   "metadata": {
    "execution": {
     "iopub.execute_input": "2023-03-19T12:35:52.041330Z",
     "iopub.status.busy": "2023-03-19T12:35:52.040544Z",
     "iopub.status.idle": "2023-03-19T12:35:52.299605Z",
     "shell.execute_reply": "2023-03-19T12:35:52.298202Z"
    },
    "papermill": {
     "duration": 0.287746,
     "end_time": "2023-03-19T12:35:52.302686",
     "exception": false,
     "start_time": "2023-03-19T12:35:52.014940",
     "status": "completed"
    },
    "tags": []
   },
   "outputs": [
    {
     "data": {
      "image/png": "[encoded data removed]",
      "text/plain": [
       "<Figure size 640x480 with 1 Axes>"
      ]
     },
     "metadata": {},
     "output_type": "display_data"
    }
   ],
   "source": [
    "my_func = lambda x: np.cos(x)*np.sin(x)\n",
    "inter = lambda x: 1/2*(np.sin(x))**2\n",
    "u_t = my_func(x)\n",
    "s_t = inter(x)\n",
    "\n",
    "model.eval()\n",
    "u_t_ = torch.tensor(u_t, dtype=torch.float32).unsqueeze(0)\n",
    "x_ = torch.tensor(x, dtype=torch.float32).unsqueeze(1)\n",
    "p = model(u_t_, x_)\n",
    "p = p.detach().numpy()\n",
    "\n",
    "plt.plot(x, u_t, label=\"Func\")\n",
    "plt.plot(x, s_t, label=\"integration analytical\")\n",
    "plt.plot(x, p, label=\"integration model\")\n",
    "plt.legend();"
   ]
  },
  {
   "cell_type": "markdown",
   "id": "36c05730",
   "metadata": {
    "papermill": {
     "duration": 0.026173,
     "end_time": "2023-03-19T12:35:52.354923",
     "exception": false,
     "start_time": "2023-03-19T12:35:52.328750",
     "status": "completed"
    },
    "tags": []
   },
   "source": [
    "It seems the network has _somewhat_ leared the integration operator. The learning can be donw better if we use more epochs and/or more senser points."
   ]
  }
 ],
 "metadata": {
  "kernelspec": {
   "display_name": "Python 3",
   "language": "python",
   "name": "python3"
  },
  "language_info": {
   "codemirror_mode": {
    "name": "ipython",
    "version": 3
   },
   "file_extension": ".py",
   "mimetype": "text/x-python",
   "name": "python",
   "nbconvert_exporter": "python",
   "pygments_lexer": "ipython3",
   "version": "3.7.12"
  },
  "papermill": {
   "default_parameters": {},
   "duration": 2307.107511,
   "end_time": "2023-03-19T12:35:53.614503",
   "environment_variables": {},
   "exception": null,
   "input_path": "__notebook__.ipynb",
   "output_path": "__notebook__.ipynb",
   "parameters": {},
   "start_time": "2023-03-19T11:57:26.506992",
   "version": "2.4.0"
  }
 },
 "nbformat": 4,
 "nbformat_minor": 5
}
